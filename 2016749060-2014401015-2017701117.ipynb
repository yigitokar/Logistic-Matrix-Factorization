{
 "cells": [
  {
   "cell_type": "markdown",
   "metadata": {},
   "source": [
    "# CMPE 462 - Project 3\n",
    "## Logistic Matrix Factorization\n",
    "\n",
    "**Student IDs:** 2016749060 - 2014401015 - 2017701117\n",
    "\n",
    "## Problem Description\n",
    "\n",
    "Binary matrices (Matrices with elements of 0/1) appear in many applications. A binary matrix can represent relations such as 'User $i$ bought item $j$', or 'Member $i$ likes Member $j$'. Such datasets are often sparse -- only a fraction of the possible entries of a matrix are known. \n",
    "\n",
    "A binary matrix can also viewed as the adjacency matrix of a bipartite graph. Hence each entry corresponds to an edge.\n",
    "One task here is known as link prediction, meaning guessing the presence or absence of edges in the underlying graph. \n",
    "This prediction can then be used for several tasks such as recommendation or knowledge-base completion.\n",
    "\n",
    "In this project, you are going to implement a matrix factorization with missing elements using Stochastic Gradient Descent (SGD), Batch SGD and GD first in numpy, then also making use of PyTorch. You will also analyze the effect of the fraction of missing elements, estimation rank and max iteration. \n",
    "\n",
    "The matrix you will factorize is a binary(logistic) matrix and has a specific pattern. Its elements that whose indices sum up to an even number are 1 and 0 otherwise. For more detailed derivation and problem description, you can analyze [this](https://github.com/atcemgil/notes/blob/master/Logistic%20Matrix%20Factorization.ipynb) notebook."
   ]
  },
  {
   "cell_type": "code",
   "execution_count": 1,
   "metadata": {
    "collapsed": true
   },
   "outputs": [],
   "source": [
    "import numpy as np\n",
    "import matplotlib.pyplot as plt\n",
    "import random\n",
    "from __future__ import division"
   ]
  },
  {
   "cell_type": "code",
   "execution_count": 2,
   "metadata": {
    "collapsed": true
   },
   "outputs": [],
   "source": [
    "def sigmoid(t):\n",
    "    return 1./(1+np.exp(-t))"
   ]
  },
  {
   "cell_type": "markdown",
   "metadata": {},
   "source": [
    "# Dataset Generation\n",
    "\n",
    "This cell generates the dataset as we have discussed. It sets the elements whom indices sum up to even number to 1."
   ]
  },
  {
   "cell_type": "code",
   "execution_count": 3,
   "metadata": {},
   "outputs": [
    {
     "data": {
      "image/png": "[encoded data removed]",
      "text/plain": [
       "<matplotlib.figure.Figure at 0x1050a0e90>"
      ]
     },
     "metadata": {},
     "output_type": "display_data"
    }
   ],
   "source": [
    "M = 50 # Use a square matrix of 50x50. You can change it if you wish\n",
    "original_matrix = np.array([[int((i + j) % 2 == 0) for j in range(M)] for  i in range(M)])\n",
    "plt.imshow(original_matrix, interpolation='nearest')  \n",
    "plt.title('Original Matrix (Full data)')\n",
    "plt.show()"
   ]
  },
  {
   "cell_type": "markdown",
   "metadata": {},
   "source": [
    "# Masking\n",
    "\n",
    "Now mask the dataset. Number of elements to mask is set by a parameter. \n",
    "\n",
    "Seed the random for repeatability"
   ]
  },
  {
   "cell_type": "code",
   "execution_count": 4,
   "metadata": {},
   "outputs": [
    {
     "data": {
      "image/png": "[encoded data removed]",
      "text/plain": [
       "<matplotlib.figure.Figure at 0x106d6e690>"
      ]
     },
     "metadata": {},
     "output_type": "display_data"
    }
   ],
   "source": [
    "random.seed(10)\n",
    "def generate_mask(M = 50, mask_count=M*M//10):\n",
    "    masks = [(random.randint(0,M-1), random.randint(0,M-1)) for i in range(mask_count)]\n",
    "    mask = np.ones((M,M))\n",
    "    for m in masks:\n",
    "        mask[m] = np.nan\n",
    "    return mask\n",
    "\n",
    "mask = generate_mask(M)\n",
    "plt.imshow(mask, interpolation='nearest')  \n",
    "plt.title('Masked Data')\n",
    "plt.show()"
   ]
  },
  {
   "cell_type": "code",
   "execution_count": null,
   "metadata": {
    "collapsed": true
   },
   "outputs": [],
   "source": []
  },
  {
   "cell_type": "code",
   "execution_count": 5,
   "metadata": {
    "collapsed": true
   },
   "outputs": [],
   "source": [
    "Y = np.multiply(original_matrix, mask)\n"
   ]
  },
  {
   "cell_type": "code",
   "execution_count": 6,
   "metadata": {},
   "outputs": [
    {
     "data": {
      "image/png": "[encoded data removed]",
      "text/plain": [
       "<matplotlib.figure.Figure at 0x106d6e5d0>"
      ]
     },
     "metadata": {},
     "output_type": "display_data"
    },
    {
     "data": {
      "text/plain": [
       "array([[  1.,   0.,   1., ...,   0.,   1.,   0.],\n",
       "       [ nan,   1.,  nan, ...,   1.,   0.,   1.],\n",
       "       [  1.,   0.,   1., ...,   0.,   1.,   0.],\n",
       "       ..., \n",
       "       [  0.,   1.,  nan, ...,   1.,   0.,  nan],\n",
       "       [  1.,   0.,   1., ...,   0.,   1.,   0.],\n",
       "       [  0.,  nan,  nan, ...,   1.,  nan,   1.]])"
      ]
     },
     "execution_count": 6,
     "metadata": {},
     "output_type": "execute_result"
    }
   ],
   "source": [
    "plt.figure(figsize = (7,7))\n",
    "plt.imshow(Y, interpolation='nearest')  \n",
    "plt.title('Matrix with Missing Data)')\n",
    "plt.show()\n",
    "Y"
   ]
  },
  {
   "cell_type": "code",
   "execution_count": 7,
   "metadata": {
    "collapsed": true
   },
   "outputs": [],
   "source": [
    "def forward_logl(M , Y, W, H):\n",
    "    WH = np.matmul(W,H)\n",
    "    A = np.multiply(np.multiply(M, Y), WH) #Hadamard multiplication\n",
    "    sum_A = A.sum()\n",
    "    B = np.multiply(M, np.log(1 + np.exp(WH))) #Hadamard multiplication\n",
    "    sum_B = B.sum()\n",
    "    return(sum_A - sum_B)\n",
    "\n"
   ]
  },
  {
   "cell_type": "code",
   "execution_count": 8,
   "metadata": {
    "collapsed": true
   },
   "outputs": [],
   "source": [
    "def logl_partial_H(M, Y, W, H):\n",
    "    WH = np.matmul(W,H)\n",
    "    dummy = np.multiply(M,Y) - np.multiply(M,sigmoid(WH))\n",
    "    grad_H = np.matmul(W.T, dummy)\n",
    "    return grad_H"
   ]
  },
  {
   "cell_type": "code",
   "execution_count": 9,
   "metadata": {
    "collapsed": true
   },
   "outputs": [],
   "source": [
    "def logl_partial_W(M, Y, W, H):\n",
    "    WH = np.matmul(W,H)\n",
    "    dummy = np.multiply(M,Y) - np.multiply(M,sigmoid(WH))\n",
    "    grad_W = np.matmul(dummy, H.T)\n",
    "    return grad_W"
   ]
  },
  {
   "cell_type": "code",
   "execution_count": 10,
   "metadata": {
    "collapsed": true
   },
   "outputs": [],
   "source": [
    "def pointwise_Delta_W(M,Y,W,H, i,j):\n",
    "    R = W.shape[0]\n",
    "    U = W.shape[1]\n",
    "    WH = np.matmul(W,H)\n",
    "    DW = np.zeros((R,U))\n",
    "    for r in range(R):\n",
    "        for u in range(U):\n",
    "            DW[r,u] = M[r,j]*Y[r,j]*H[u,j] - ( M[r,j] * (sigmoid(WH[r,j]*H[u,j])) )\n",
    "    return(DW)\n"
   ]
  },
  {
   "cell_type": "code",
   "execution_count": 11,
   "metadata": {
    "collapsed": true
   },
   "outputs": [],
   "source": [
    "def pointwise_Delta_H(M, Y, W, H, i, j):\n",
    "    R = H.shape[0]\n",
    "    U = H.shape[1]\n",
    "    WH = np.matmul(W,H)\n",
    "    DH = np.zeros((R,U))\n",
    "    for r in range(R):\n",
    "        for u in range(U):\n",
    "            DH[r,u] = W.T[r,i] * (M[i,u] * Y[i,u] - sigmoid(WH[i,u]))\n",
    "    return(DH)"
   ]
  },
  {
   "cell_type": "code",
   "execution_count": 12,
   "metadata": {
    "collapsed": true
   },
   "outputs": [],
   "source": [
    "def plot_fit(W,H):\n",
    "    Y_hat = sigmoid(np.matmul(W,H))\n",
    "    plt.figure(figsize = (7,7))\n",
    "    plt.imshow(Y_hat, interpolation='nearest')  \n",
    "    plt.title('Estimate')\n",
    "    plt.show()"
   ]
  },
  {
   "cell_type": "markdown",
   "metadata": {},
   "source": [
    "# Gradient Descents\n",
    "\n",
    "Implement **SGD**. **BGD** and **GD** in this cell using **numpy**. Compute the error of the resulting matrix compared to original data for approximation ranks in [1,M]. For measuring the quality of the fit, you should use the log-likelihood\n",
    "\n",
    "\n",
    "$$ Y = \\sigma(WH) $$\n",
    "\n",
    "\\begin{eqnarray}\n",
    "\\log p(Y |W, H ) &=& \\sum_j \\sum_{i} M(i,j) Y(i,j) \\left(\\sum_k W(i,k) H(k,j)\\right)  - \\sum_j \\sum_{i} M(i,j) \\log\\left( 1+ \\exp\\left(\\sum_k W(i,k) H(k,j)\\right)\\right) \n",
    "\\end{eqnarray}\n",
    "\n",
    "\\begin{eqnarray}\n",
    "\\log p(Y |W, H )= \\sum_j \\sum_{i} \\Bigg(\\big(M\\odot Y\\big)\\odot  (WH)\\Bigg)(i,j) - \\sum_j \\sum_{i} \\Bigg(M\\odot \\log\\big(1 + exp(WH)\\big)\\Bigg)(i,j)\n",
    "\\end{eqnarray}\n",
    "\n",
    "\n",
    "\n",
    "Pointwise loglikelihood:\n",
    "\n",
    "\\begin{eqnarray}\n",
    "l(i,j) = M(i,j) Y(i,j) WH(i,j)-M(i,j)\\log\\Bigg(1 + exp(WH(i,j))\\Bigg) \n",
    "\\end{eqnarray}\n"
   ]
  },
  {
   "cell_type": "markdown",
   "metadata": {},
   "source": [
    "\n",
    "\n",
    "### Derivatives of log likelihood function\n",
    "\n",
    "\n",
    "\\begin{eqnarray}\n",
    "\\frac{\\partial L}{\\partial H} = W^\\intercal\\Big[M\\odot\\big(y-\\sigma(WH)\\big)\\Big]\n",
    "\\ = W^\\intercal\\Big[(M\\odot y)-\\big(M\\odot\\sigma(WH)\\big)\\Big]\n",
    "\\end{eqnarray}\n",
    "\n",
    "\\begin{eqnarray}\n",
    "\\frac{\\partial L}{\\partial W} = \\Big[M\\odot\\big(y-\\sigma(WH)\\big)\\Big]H^T\n",
    "\\ = \\Big[(M\\odot y)-\\big(M\\odot\\sigma(WH)\\big)\\Big]H^T\n",
    "\\end{eqnarray}\n",
    "\n",
    "\n",
    "Pointwise derivatives:\n",
    "\n",
    "\\begin{eqnarray}\n",
    "\\frac{\\partial l(i,j)}{\\partial W(r,u)}=M(r,j) Y(r,j) H(u,j) - M(r,j)\\Bigg(\\sigma(WH(r,j) H(u,j)\\Bigg)\n",
    "\\end{eqnarray}\n",
    "\n",
    "\\begin{eqnarray}\n",
    "\\frac{\\partial l(i,j)}{\\partial H(r,u)} = W^T(r,i)\\Bigg( M(i,u)Y(i,u)- \\sigma(WH(i,u))\\Bigg)\n",
    "\\end{eqnarray}\n",
    "\n",
    "For plot generation, use results computed by SGD."
   ]
  },
  {
   "cell_type": "code",
   "execution_count": 74,
   "metadata": {},
   "outputs": [],
   "source": [
    "# Implement SGD here. Add the method signatures for other gradient descents as well. You can add a batch size parameter to merge\n",
    "# all types of gradient descents into one method.\n",
    "def sgd(original_matrix, mask, estimation_rank, max_epoch=10000,eta=0.010, nu=0.1):\n",
    "    \n",
    "    K = estimation_rank\n",
    "    M = original_matrix.shape[0]\n",
    "    Y = np.multiply(original_matrix, mask)\n",
    "    Y_M = Y.copy()\n",
    "    Y_M[np.isnan(Y_M)] = 999\n",
    "    MM = mask.copy()  # creating a Mask matrix that is going to be used in GD.\n",
    "    MM[np.isnan(MM)] = 0\n",
    "    \n",
    "    W = np.random.randn(M,K) # initialize here\n",
    "    H = np.random.randn(K,M)  \n",
    "    \n",
    "    #plot_fit(W,H)  # plotting the initial guess\n",
    "\n",
    "    sgd_error_vec = np.zeros(max_epoch) #initialize the error vec\n",
    "    \n",
    "    # SGD starts here \n",
    "    for e in range(max_epoch):\n",
    "\n",
    "        j = int(round(np.random.uniform(low=0.0, high=49.0))) \n",
    "        i = int(round(np.random.uniform(low=0.0, high=49.0))) \n",
    "        dLh = pointwise_Delta_H(MM, Y_M, W, H, i, j) \n",
    "        H = H + eta * dLh \n",
    "        dLw = pointwise_Delta_W(MM, Y_M, W, H, i, j) \n",
    "        W = W + eta * dLw \n",
    "\n",
    "\n",
    "        Y_hat = sigmoid(np.matmul(W,H))\n",
    "        sgd_error_vec[e] = np.linalg.norm(Y_hat - original_matrix)\n",
    "\n",
    "#         if e % 1000 == 0:\n",
    "#             #plot_fit(W,H)\n",
    "#             print e\n",
    "#             print sgd_error_vec[e]\n",
    "\n",
    "#         if sgd_error_vec[e] < 3:\n",
    "#             break\n",
    "    \n",
    "    \n",
    "    #plt.plot(sgd_error_vec[0:e])\n",
    "    #plt.show()\n",
    "    return(W, H, sgd_error_vec)\n",
    "\n",
    "\n",
    "    \n",
    "    \n",
    "    \n",
    "    \n"
   ]
  },
  {
   "cell_type": "code",
   "execution_count": 41,
   "metadata": {
    "collapsed": true
   },
   "outputs": [],
   "source": [
    "def minibatch_gd(original_matrix, mask, estimation_rank, max_epoch=10000,eta=0.010, nu=0.1, B = 50):\n",
    "    K = estimation_rank\n",
    "    M = original_matrix.shape[0]\n",
    "    Y = np.multiply(original_matrix, mask)\n",
    "    Y_M = Y.copy()\n",
    "    Y_M[np.isnan(Y_M)] = 999\n",
    "    MM = mask.copy()  # creating a Mask matrix that is going to be used in GD.\n",
    "    MM[np.isnan(MM)] = 0\n",
    "    \n",
    "    W = np.random.randn(M,K) # initialize here\n",
    "    H = np.random.randn(K,M)  \n",
    "    \n",
    "    #plot_fit(W,H)  # plotting the initial guess\n",
    "\n",
    "    minibatch_error_vec = np.zeros(max_epoch) #initialize the error vec\n",
    "    \n",
    "    \n",
    "    # Minibatch starts here \n",
    "    for e in range(max_epoch):\n",
    "        dLh=0\n",
    "        dLw=0\n",
    "        batch = [ ( int(round(np.random.uniform(low=0.0, high=49.0))), int(round(np.random.uniform(low=0.0, high=49.0))) ) for k in range(B) ]\n",
    "        for b in range(B):\n",
    "            i = batch[b][0]\n",
    "            j = batch[b][1]\n",
    "            dLh = dLh + pointwise_Delta_H(MM, Y_M, W, H, i, j)\n",
    "            dLw = dLw + pointwise_Delta_W(MM, Y_M, W, H, i, j)\n",
    "\n",
    "        H = H+ eta * dLh\n",
    "        W = W + eta * dLw\n",
    "\n",
    "        Y_hat = sigmoid(np.matmul(W,H))\n",
    "        minibatch_error_vec[e] = np.linalg.norm(Y_hat - original_matrix)\n",
    "\n",
    "        if e % 1000 == 0:\n",
    "            #plot_fit(W,H)\n",
    "            print e\n",
    "            print minibatch_error_vec[e]\n",
    "\n",
    "        if minibatch_error_vec[e] < 3:\n",
    "            break\n",
    "    \n",
    "    \n",
    "    #plt.plot(minibatch_error_vec[0:e])\n",
    "    #plt.show()\n",
    "    return(W,H)\n",
    "\n",
    "\n",
    "    "
   ]
  },
  {
   "cell_type": "code",
   "execution_count": 30,
   "metadata": {
    "collapsed": true
   },
   "outputs": [],
   "source": [
    "# Implement SGD here. Add the method signatures for other gradient descents as well. You can add a batch size parameter to merge\n",
    "# all types of gradient descents into one method.\n",
    "def pointwise_gd(original_matrix, mask, estimation_rank, max_epoch=10000,eta=0.010, nu=0.1):\n",
    "    K = estimation_rank\n",
    "    M = original_matrix.shape[0]\n",
    "    Y = np.multiply(original_matrix, mask)\n",
    "    Y_M = Y.copy()\n",
    "    Y_M[np.isnan(Y_M)] = 999\n",
    "    MM = mask.copy()  # creating a Mask matrix that is going to be used in GD.\n",
    "    MM[np.isnan(MM)] = 0\n",
    "\n",
    "    W = np.random.randn(M,K) # initialize here\n",
    "    H = np.random.randn(K,M)  # initialize here\n",
    "    max_epoch = 100\n",
    "\n",
    "    #plot_fit(W,H)  # plotting the initial guess\n",
    "\n",
    "    error_vec = np.zeros(max_epoch)\n",
    "    # Implementation of GD using pointwise gradient.\n",
    "\n",
    "    for e in range(max_epoch):\n",
    "        dLh=0\n",
    "        dLw=0\n",
    "        for i in range(M):\n",
    "                for j in range(M):\n",
    "                    dLh = dLh + pointwise_Delta_H(MM, Y_M, W, H, i, j)\n",
    "                    dLw = dLw + pointwise_Delta_W(MM, Y_M, W, H, i, j)\n",
    "                                \n",
    "\n",
    "        H = H+ eta * dLh\n",
    "        W = W + eta * dLw\n",
    "\n",
    "        Y_hat = sigmoid(np.matmul(W,H))\n",
    "        #plot_fit(W,H)\n",
    "\n",
    "        print e\n",
    "        error_vec[e] = np.linalg.norm(Y_hat - original_matrix)\n",
    "        print error_vec[e]\n",
    "        if error_vec[e] < 4:\n",
    "            break\n",
    "\n",
    "    #plt.plot(error_vec[0:e])\n",
    "    #plt.show()\n",
    "    return(W,H)\n"
   ]
  },
  {
   "cell_type": "code",
   "execution_count": 31,
   "metadata": {
    "collapsed": true
   },
   "outputs": [],
   "source": [
    "def Vector_gd(original_matrix, mask, estimation_rank, max_epoch=100,eta=0.010, nu=0.1):\n",
    "    K = estimation_rank\n",
    "    M = original_matrix.shape[0]\n",
    "    Y = np.multiply(original_matrix, mask)\n",
    "    Y_M = Y.copy()\n",
    "    Y_M[np.isnan(Y_M)] = 999\n",
    "    MM = mask.copy()  # creating a Mask matrix that is going to be used in GD.\n",
    "    MM[np.isnan(MM)] = 0\n",
    "\n",
    "    W = np.random.randn(M,K) # initialize here\n",
    "    H = np.random.randn(K,M)  # initialize here\n",
    "\n",
    "    #plot_fit(W,H)  # plotting the initial guess\n",
    "\n",
    "    # Normal Gradient Descent\n",
    "    error_vec = np.zeros(max_epoch)\n",
    "    for epoch in range(max_epoch):\n",
    "        dLh = logl_partial_H(MM, Y_M, W, H) - nu * H\n",
    "        H = H + eta * dLh\n",
    "        dLw = logl_partial_W(MM, Y_M, W, H) - nu * W\n",
    "        W = W + eta * dLw\n",
    "        Y_hat = sigmoid(np.matmul(W,H))\n",
    "        #plot_fit(W,H)\n",
    "\n",
    "        error_vec[epoch] = np.linalg.norm(Y_hat - original_matrix)\n",
    "        if error_vec[epoch] < 0.5:\n",
    "            break\n",
    "            \n",
    "\n",
    "    #plt.plot(error_vec[0:epoch])\n",
    "    #plt.show()\n",
    "    return(W,H)\n",
    "\n"
   ]
  },
  {
   "cell_type": "code",
   "execution_count": 24,
   "metadata": {},
   "outputs": [
    {
     "name": "stdout",
     "output_type": "stream",
     "text": [
      "0\n",
      "30.7814345033\n",
      "1000\n",
      "7.09064923441\n",
      "2000\n",
      "8.16349422136\n"
     ]
    },
    {
     "data": {
      "image/png": "[encoded data removed]",
      "text/plain": [
       "<matplotlib.figure.Figure at 0x10d6f7d50>"
      ]
     },
     "metadata": {},
     "output_type": "display_data"
    }
   ],
   "source": [
    "W,H = sgd(original_matrix = original_matrix, mask = mask, estimation_rank=10, max_epoch=10000, eta=0.010, nu=0.1 )\n",
    "plot_fit(W,H)"
   ]
  },
  {
   "cell_type": "code",
   "execution_count": 32,
   "metadata": {},
   "outputs": [
    {
     "name": "stdout",
     "output_type": "stream",
     "text": [
      "0\n",
      "27.4624072694\n",
      "1\n",
      "27.0352457273\n",
      "2\n",
      "32.8728114995\n",
      "3\n",
      "35.3217099891\n",
      "4\n",
      "34.0593084108\n",
      "5\n",
      "27.7636882836\n",
      "6\n",
      "1.54252880913\n"
     ]
    },
    {
     "data": {
      "image/png": "[encoded data removed]",
      "text/plain": [
       "<matplotlib.figure.Figure at 0x10e360910>"
      ]
     },
     "metadata": {},
     "output_type": "display_data"
    }
   ],
   "source": [
    "W,H = pointwise_gd(original_matrix = original_matrix, mask = mask, estimation_rank=2, max_epoch=10000, eta=0.001, nu=0.1 )\n",
    "plot_fit(W,H)"
   ]
  },
  {
   "cell_type": "code",
   "execution_count": 34,
   "metadata": {},
   "outputs": [
    {
     "data": {
      "image/png": "[encoded data removed]",
      "text/plain": [
       "<matplotlib.figure.Figure at 0x10e7b0dd0>"
      ]
     },
     "metadata": {},
     "output_type": "display_data"
    }
   ],
   "source": [
    "W,H = Vector_gd(original_matrix = original_matrix, mask = mask, estimation_rank=2, max_epoch=10000, eta=0.001, nu=0.1 )\n",
    "plot_fit(W,H)"
   ]
  },
  {
   "cell_type": "code",
   "execution_count": 42,
   "metadata": {},
   "outputs": [
    {
     "name": "stdout",
     "output_type": "stream",
     "text": [
      "0\n",
      "27.5104361553\n"
     ]
    },
    {
     "name": "stderr",
     "output_type": "stream",
     "text": [
      "/Users/yigitokar/anaconda2/lib/python2.7/site-packages/ipykernel_launcher.py:2: RuntimeWarning: overflow encountered in exp\n",
      "  \n"
     ]
    },
    {
     "data": {
      "image/png": "[encoded data removed]",
      "text/plain": [
       "<matplotlib.figure.Figure at 0x10df61a90>"
      ]
     },
     "metadata": {},
     "output_type": "display_data"
    }
   ],
   "source": [
    "W,H = minibatch_gd(original_matrix, mask, 2, max_epoch=10000,eta=0.010, nu=0.1, B = 50)\n",
    "plot_fit(W,H)"
   ]
  },
  {
   "cell_type": "markdown",
   "metadata": {},
   "source": [
    "# Error Plots"
   ]
  },
  {
   "cell_type": "markdown",
   "metadata": {},
   "source": [
    "### Error vs Estimation Rank"
   ]
  },
  {
   "cell_type": "code",
   "execution_count": null,
   "metadata": {
    "collapsed": true
   },
   "outputs": [],
   "source": [
    "est_ranks = np.arange(2, 51, 2)\n",
    "\n",
    "error = []\n",
    "for k in est_ranks:\n",
    "    original_matrix = np.array([[int((i + j) % 2 == 0) for j in range(M)] for  i in range(M)])\n",
    "    mask = generate_mask(M)\n",
    "    W, H, sgd_error_tensor = SGD_PyTorch(original_matrix, mask, k , max_epoch=5000,eta=0.010)\n",
    "    temp_error = sgd_error_tensor[-1]\n",
    "    error.append(temp_error.data.numpy())"
   ]
  },
  {
   "cell_type": "code",
   "execution_count": 75,
   "metadata": {},
   "outputs": [
    {
     "name": "stdout",
     "output_type": "stream",
     "text": [
      "2\n"
     ]
    },
    {
     "name": "stderr",
     "output_type": "stream",
     "text": [
      "/Users/yigitokar/anaconda2/lib/python2.7/site-packages/ipykernel_launcher.py:2: RuntimeWarning: overflow encountered in exp\n",
      "  \n"
     ]
    },
    {
     "name": "stdout",
     "output_type": "stream",
     "text": [
      "12\n",
      "22\n",
      "32\n",
      "42\n"
     ]
    }
   ],
   "source": [
    "errors = []\n",
    "est_ranks = np.arange(2, 51, 10)\n",
    "\n",
    "\n",
    "for k in est_ranks:\n",
    "    print k \n",
    "    W,H,sgd_error_vec = sgd(original_matrix = original_matrix, mask = mask, estimation_rank=k , max_epoch=5000, eta=0.010, nu=0.1)\n",
    "    errors.append(sgd_error_vec[-1])\n",
    "    "
   ]
  },
  {
   "cell_type": "code",
   "execution_count": 76,
   "metadata": {},
   "outputs": [
    {
     "data": {
      "image/png": "[encoded data removed]",
      "text/plain": [
       "<matplotlib.figure.Figure at 0x1042b6390>"
      ]
     },
     "metadata": {},
     "output_type": "display_data"
    }
   ],
   "source": [
    "plt.plot(est_ranks,errors)\n",
    "plt.xlabel('Estimation Rank')\n",
    "plt.ylabel('Error ')\n",
    "plt.show()"
   ]
  },
  {
   "cell_type": "markdown",
   "metadata": {},
   "source": [
    "### Error vs Iteration Number & Estimation Rank"
   ]
  },
  {
   "cell_type": "code",
   "execution_count": 169,
   "metadata": {},
   "outputs": [
    {
     "name": "stdout",
     "output_type": "stream",
     "text": [
      "100\n",
      "600\n",
      "1100\n",
      "1600\n",
      "2100\n",
      "2600\n"
     ]
    }
   ],
   "source": [
    "est_ranks = np.arange(2, 51, 5)\n",
    "iter_number = np.arange(100, 3001, 500) \n",
    "\n",
    "\n",
    "n = est_ranks.shape[0]\n",
    "m = iter_number.shape[0]\n",
    "\n",
    "errors4 = np.zeros((n , m ))\n",
    "\n",
    "\n",
    "\n",
    "ee = 0 \n",
    "# 20 dk suruyor \n",
    "for e in iter_number:\n",
    "    kk = 0\n",
    "    for k in est_ranks:\n",
    "        \n",
    "        original_matrix = np.array([[int((i + j) % 2 == 0) for j in range(M)] for  i in range(M)])\n",
    "        mask = generate_mask(M)\n",
    "        \n",
    "        W, H, sgd_error_vec = sgd(original_matrix, mask, k , max_epoch= e ,eta=0.010)\n",
    "\n",
    "        temp_error = sgd_error_vec[-1]\n",
    "        \n",
    "        errors4[kk,ee] = temp_error\n",
    "        kk = kk + 1\n",
    "        \n",
    "    ee = ee + 1\n",
    "\n",
    "\n"
   ]
  },
  {
   "cell_type": "code",
   "execution_count": 171,
   "metadata": {},
   "outputs": [
    {
     "data": {
      "image/png": "[encoded data removed]",
      "text/plain": [
       "<matplotlib.figure.Figure at 0x10e63b990>"
      ]
     },
     "metadata": {},
     "output_type": "display_data"
    }
   ],
   "source": [
    "plt.imshow(errors4, cmap='hot', interpolation='nearest', extent=[100,3000,1,M], aspect='auto')\n",
    "plt.xlabel('Iterations')\n",
    "plt.ylabel('Approximation Rank')\n",
    "plt.colorbar()\n",
    "plt.show()"
   ]
  },
  {
   "cell_type": "markdown",
   "metadata": {},
   "source": [
    "### Error vs Mask Count & Estimation Rank"
   ]
  },
  {
   "cell_type": "code",
   "execution_count": 122,
   "metadata": {
    "collapsed": true
   },
   "outputs": [],
   "source": [
    "est_ranks = np.arange(2, 51, 5)\n",
    "mask_count = np.arange(100, 1501, 300)\n",
    "\n",
    "n = est_ranks.shape[0]\n",
    "m = mask_count.shape[0]\n",
    "\n",
    "errors5 = np.zeros((n , m ))"
   ]
  },
  {
   "cell_type": "code",
   "execution_count": 123,
   "metadata": {},
   "outputs": [
    {
     "data": {
      "text/plain": [
       "array([[ 0.,  0.,  0.,  0.,  0.],\n",
       "       [ 0.,  0.,  0.,  0.,  0.],\n",
       "       [ 0.,  0.,  0.,  0.,  0.],\n",
       "       [ 0.,  0.,  0.,  0.,  0.],\n",
       "       [ 0.,  0.,  0.,  0.,  0.],\n",
       "       [ 0.,  0.,  0.,  0.,  0.],\n",
       "       [ 0.,  0.,  0.,  0.,  0.],\n",
       "       [ 0.,  0.,  0.,  0.,  0.],\n",
       "       [ 0.,  0.,  0.,  0.,  0.],\n",
       "       [ 0.,  0.,  0.,  0.,  0.]])"
      ]
     },
     "execution_count": 123,
     "metadata": {},
     "output_type": "execute_result"
    }
   ],
   "source": [
    "errors5"
   ]
  },
  {
   "cell_type": "code",
   "execution_count": 124,
   "metadata": {},
   "outputs": [
    {
     "name": "stdout",
     "output_type": "stream",
     "text": [
      "100\n"
     ]
    },
    {
     "name": "stderr",
     "output_type": "stream",
     "text": [
      "/Users/yigitokar/anaconda2/lib/python2.7/site-packages/ipykernel_launcher.py:2: RuntimeWarning: overflow encountered in exp\n",
      "  \n"
     ]
    },
    {
     "name": "stdout",
     "output_type": "stream",
     "text": [
      "400\n",
      "700\n",
      "1000\n",
      "1300\n"
     ]
    }
   ],
   "source": [
    "mcc = 0 \n",
    "# dk suruyor\n",
    "for mc in mask_count:\n",
    "    print mc\n",
    "    kk = 0\n",
    "    for k in est_ranks:\n",
    "        \n",
    "        original_matrix = np.array([[int((i + j) % 2 == 0) for j in range(M)] for  i in range(M)])\n",
    "        \n",
    "        mask = generate_mask(M, mc)\n",
    "        \n",
    "        W, H, sgd_error_vec = sgd(original_matrix, mask, k , max_epoch= 1000 ,eta=0.10)\n",
    "\n",
    "        temp_error = sgd_error_vec[-1]\n",
    "        \n",
    "        errors5[kk,mcc] = temp_error\n",
    "        kk = kk + 1\n",
    "        \n",
    "    mcc = mcc + 1\n",
    "\n",
    "\n"
   ]
  },
  {
   "cell_type": "code",
   "execution_count": 125,
   "metadata": {},
   "outputs": [
    {
     "data": {
      "image/png": "[encoded data removed]",
      "text/plain": [
       "<matplotlib.figure.Figure at 0x106db0190>"
      ]
     },
     "metadata": {},
     "output_type": "display_data"
    }
   ],
   "source": [
    "plt.imshow(errors5, cmap='hot', interpolation='nearest', extent=[250,2500,1,50], aspect='auto')\n",
    "plt.xlabel('Mask Count')\n",
    "plt.ylabel('Approximation Rank')\n",
    "plt.colorbar()\n",
    "plt.show()"
   ]
  },
  {
   "cell_type": "markdown",
   "metadata": {},
   "source": [
    "# PyTorch\n"
   ]
  },
  {
   "cell_type": "code",
   "execution_count": 43,
   "metadata": {
    "collapsed": true
   },
   "outputs": [],
   "source": [
    "import torch"
   ]
  },
  {
   "cell_type": "code",
   "execution_count": 44,
   "metadata": {
    "collapsed": true
   },
   "outputs": [],
   "source": [
    "def forward_pass(W,H,MM ,Y_M):\n",
    "    \n",
    "    WH = torch.mm(W,H)\n",
    "    WH = WH.type(torch.DoubleTensor)\n",
    "    dum1 = torch.mul(MM,Y_M)\n",
    "    A = torch.mul(dum1,WH)\n",
    "    sum_A = A.sum()\n",
    "    B = torch.mul(MM, torch.log(1 + torch.exp(WH)))\n",
    "    sum_B = B.sum()\n",
    "    LL = sum_A - sum_B\n",
    "    \n",
    "    return(LL)\n"
   ]
  },
  {
   "cell_type": "code",
   "execution_count": 45,
   "metadata": {
    "collapsed": true
   },
   "outputs": [],
   "source": [
    "def pointwise_forward_ll(W,H,MM ,Y_M,i,j):\n",
    "    \n",
    "    WH = torch.mm(W,H)\n",
    "    WH = WH.type(torch.DoubleTensor)\n",
    "    dum1 = torch.mul(MM,Y_M)\n",
    "    A = torch.mul(dum1,WH)\n",
    "    B = torch.mul(MM, torch.log(1 + torch.exp(WH)))\n",
    "    \n",
    "    ll_ij = (A - B)[i,j]\n",
    "\n",
    "    return(ll_ij)"
   ]
  },
  {
   "cell_type": "markdown",
   "metadata": {},
   "source": [
    "# Vectoral Gradient Descent Using PyTorch"
   ]
  },
  {
   "cell_type": "code",
   "execution_count": 46,
   "metadata": {
    "collapsed": true
   },
   "outputs": [],
   "source": [
    "def GD_PyTorch(original_matrix, mask, K , max_epoch=10000,eta=0.010, nu=0.1): \n",
    "    M = 50 \n",
    "    #K = 2\n",
    "    Y = np.multiply(original_matrix, mask)\n",
    "    Y_M = Y.copy()\n",
    "    Y_M[np.isnan(Y_M)] = 999\n",
    "    MM = mask.copy()  # creating a Mask matrix that is going to be used in GD.\n",
    "    MM[np.isnan(MM)] = 0\n",
    "\n",
    "    W = torch.randn(M, K, requires_grad=True)\n",
    "    H = torch.randn(K, M, requires_grad=True)\n",
    "\n",
    "    Y_M = torch.from_numpy(Y_M)\n",
    "    MM = torch.from_numpy(MM)\n",
    "    original_matrix = torch.from_numpy(original_matrix)\n",
    "    original_matrix = original_matrix.type(torch.DoubleTensor)\n",
    "\n",
    "    error_tensor = torch.zeros(max_epoch)\n",
    "    for epoch in range(1000):\n",
    "\n",
    "        LL = forward_pass(W,H,MM ,Y_M)\n",
    "        LL.backward()\n",
    "\n",
    "        dLh = H.grad.data - nu * H.data\n",
    "        H.data = H.data + eta * dLh\n",
    "\n",
    "        dLw = W.grad.data - nu * W.data\n",
    "        W.data = W.data + eta * dLw\n",
    "\n",
    "        H.grad.data.zero_()\n",
    "        W.grad.data.zero_()\n",
    "\n",
    "        Y_hat = torch.sigmoid(torch.mm(W.data,H.data))\n",
    "        Y_hat = Y_hat.type(torch.DoubleTensor)\n",
    "        Error_Matrix = Y_hat - original_matrix\n",
    "        error_tensor[epoch] = Error_Matrix.norm()\n",
    "\n",
    "    plt.plot(error_tensor.data.numpy()[0:epoch])\n",
    "    plt.show()\n",
    "    Y_hat = torch.sigmoid(torch.mm(W,H)).data.numpy()\n",
    "\n",
    "    return(W.data,H.data,error_tensor)\n"
   ]
  },
  {
   "cell_type": "code",
   "execution_count": 47,
   "metadata": {
    "collapsed": true
   },
   "outputs": [],
   "source": [
    "# RE-initialize\n",
    "original_matrix = np.array([[int((i + j) % 2 == 0) for j in range(M)] for  i in range(M)])\n",
    "mask = generate_mask(M)"
   ]
  },
  {
   "cell_type": "code",
   "execution_count": 48,
   "metadata": {},
   "outputs": [
    {
     "data": {
      "image/png": "[encoded data removed]",
      "text/plain": [
       "<matplotlib.figure.Figure at 0x10deffb50>"
      ]
     },
     "metadata": {},
     "output_type": "display_data"
    }
   ],
   "source": [
    "W,H,error_tensor = GD_PyTorch(original_matrix, mask, 2 , max_epoch=10000,eta=0.010, nu=0.1)"
   ]
  },
  {
   "cell_type": "code",
   "execution_count": 49,
   "metadata": {},
   "outputs": [
    {
     "data": {
      "image/png": "[encoded data removed]",
      "text/plain": [
       "<matplotlib.figure.Figure at 0x10e229390>"
      ]
     },
     "metadata": {},
     "output_type": "display_data"
    }
   ],
   "source": [
    "Y_hat = torch.sigmoid(torch.mm(W,H)).data.numpy()\n",
    "plt.figure(figsize = (7,7))\n",
    "plt.imshow(Y_hat, interpolation='nearest')  \n",
    "plt.title('Estimate')\n",
    "plt.show()"
   ]
  },
  {
   "cell_type": "markdown",
   "metadata": {},
   "source": [
    "# Stochastic Gradient Descent Using PyTorch"
   ]
  },
  {
   "cell_type": "code",
   "execution_count": 50,
   "metadata": {
    "collapsed": true
   },
   "outputs": [],
   "source": [
    "def SGD_PyTorch(original_matrix, mask, K , max_epoch,eta=0.010): \n",
    "    \n",
    "    M=50 \n",
    "    Y = np.multiply(original_matrix, mask)\n",
    "    Y_M = Y.copy()\n",
    "    Y_M[np.isnan(Y_M)] = 999\n",
    "    MM = mask.copy()  # creating a Mask matrix that is going to be used in GD.\n",
    "    MM[np.isnan(MM)] = 0\n",
    "\n",
    "    \n",
    "\n",
    "\n",
    "    # Create random Tensors for W and H\n",
    "\n",
    "    torch.manual_seed(2)\n",
    "    W = torch.randn(M, K, requires_grad=True)\n",
    "    H = torch.randn(K, M, requires_grad=True)\n",
    "\n",
    "    Y_M = torch.from_numpy(Y_M)\n",
    "    MM = torch.from_numpy(MM)\n",
    "    original_matrix = torch.from_numpy(original_matrix)\n",
    "    original_matrix = original_matrix.type(torch.DoubleTensor)\n",
    "    \n",
    "    \n",
    "    sgd_error_tensor = torch.zeros(max_epoch) #initialize the error tensor\n",
    "    \n",
    "    # SGD starts here \n",
    "    for epoch in range(max_epoch):\n",
    "\n",
    "        j = torch.LongTensor(1).random_(0, 50)\n",
    "        i = torch.LongTensor(1).random_(0, 50)\n",
    "\n",
    "        ll_ij = pointwise_forward_ll(W,H,MM ,Y_M,i,j)\n",
    "        ll_ij.backward()\n",
    "\n",
    "        dLh = H.grad.data \n",
    "        H.data = H.data + eta * dLh\n",
    "\n",
    "        dLw = W.grad.data \n",
    "        W.data = W.data + eta * dLw\n",
    "\n",
    "        H.grad.data.zero_()\n",
    "        W.grad.data.zero_()\n",
    "\n",
    "        Y_hat = torch.sigmoid(torch.mm(W.data,H.data))\n",
    "        Y_hat = Y_hat.type(torch.DoubleTensor)\n",
    "        Error_Matrix = Y_hat - original_matrix\n",
    "        sgd_error_tensor[epoch] = Error_Matrix.norm()\n",
    "    \n",
    "    \n",
    "    #plt.plot(sgd_error_tensor.data.numpy()[0:epoch])\n",
    "    #plt.show()\n",
    "    \n",
    "    return(W.data,H.data,sgd_error_tensor)"
   ]
  },
  {
   "cell_type": "code",
   "execution_count": 51,
   "metadata": {
    "collapsed": true
   },
   "outputs": [],
   "source": [
    "# RE-initialize\n",
    "original_matrix = np.array([[int((i + j) % 2 == 0) for j in range(M)] for  i in range(M)])\n",
    "mask = generate_mask(M)"
   ]
  },
  {
   "cell_type": "code",
   "execution_count": 52,
   "metadata": {
    "collapsed": true
   },
   "outputs": [],
   "source": [
    "W,H,sgd_error_tensor = SGD_PyTorch(original_matrix, mask, K = 2 , max_epoch=10000,eta=0.10)"
   ]
  },
  {
   "cell_type": "code",
   "execution_count": 53,
   "metadata": {},
   "outputs": [
    {
     "data": {
      "image/png": "[encoded data removed]",
      "text/plain": [
       "<matplotlib.figure.Figure at 0x10e244fd0>"
      ]
     },
     "metadata": {},
     "output_type": "display_data"
    }
   ],
   "source": [
    "Y_hat = torch.sigmoid(torch.mm(W,H)).data.numpy()\n",
    "plt.figure(figsize = (7,7))\n",
    "plt.imshow(Y_hat, interpolation='nearest')  \n",
    "plt.title('Estimate')\n",
    "plt.show()\n"
   ]
  },
  {
   "cell_type": "markdown",
   "metadata": {},
   "source": [
    "# Mini-Batch Gradient Descent  Using PyTorch"
   ]
  },
  {
   "cell_type": "code",
   "execution_count": 54,
   "metadata": {
    "collapsed": true
   },
   "outputs": [],
   "source": [
    "def MiniBatch_SGD_PyTorch(original_matrix, mask, K , max_epoch=10000,eta=0.010, B = 10): \n",
    "    M=50 \n",
    "    Y = np.multiply(original_matrix, mask)\n",
    "    Y_M = Y.copy()\n",
    "    Y_M[np.isnan(Y_M)] = 999\n",
    "    MM = mask.copy()  \n",
    "    MM[np.isnan(MM)] = 0\n",
    "\n",
    "    # Create random Tensors for W and H\n",
    "\n",
    "    torch.manual_seed(2)\n",
    "    W = torch.randn(M, K, requires_grad=True)\n",
    "    H = torch.randn(K, M, requires_grad=True)\n",
    "\n",
    "    Y_M = torch.from_numpy(Y_M)\n",
    "    MM = torch.from_numpy(MM)\n",
    "    original_matrix = torch.from_numpy(original_matrix)\n",
    "    original_matrix = original_matrix.type(torch.DoubleTensor)\n",
    "    \n",
    "    minibatch_error_tensor = torch.zeros(max_epoch) #initialize the error tensor\n",
    " \n",
    "    # Minibatch SGD starts here \n",
    "    for epoch in range(max_epoch):\n",
    "        dLh = torch.zeros(K,M)\n",
    "        dLw = torch.zeros(M,K)\n",
    "        batch = [ ( torch.LongTensor(1).random_(0, 50), torch.LongTensor(1).random_(0, 50) ) for k in range(B) ]\n",
    "        for b in range(B):\n",
    "            i,j = batch[b]\n",
    "            ll_ij = pointwise_forward_ll(W,H,MM ,Y_M,i,j)\n",
    "            ll_ij.backward()\n",
    "\n",
    "            dLh.data = dLh.data + H.grad.data\n",
    "            dLw.data = dLw.data + W.grad.data\n",
    "\n",
    "            H.grad.data.zero_()\n",
    "            W.grad.data.zero_()\n",
    "\n",
    "        H.data = H.data + eta * dLh.data\n",
    "        W.data = W.data + eta * dLw.data\n",
    "\n",
    "        Y_hat = torch.sigmoid(torch.mm(W.data,H.data))\n",
    "        Y_hat = Y_hat.type(torch.DoubleTensor)\n",
    "        Error_Matrix = Y_hat - original_matrix\n",
    "        minibatch_error_tensor[epoch] = Error_Matrix.norm()\n",
    "    \n",
    "    \n",
    "    \n",
    "    plt.plot(minibatch_error_tensor.data.numpy()[0:epoch])\n",
    "    plt.show()\n",
    "    return(W.data,H.data,minibatch_error_tensor)"
   ]
  },
  {
   "cell_type": "code",
   "execution_count": 55,
   "metadata": {
    "collapsed": true
   },
   "outputs": [],
   "source": [
    "# RE-initialize\n",
    "original_matrix = np.array([[int((i + j) % 2 == 0) for j in range(M)] for  i in range(M)])\n",
    "mask = generate_mask(M)"
   ]
  },
  {
   "cell_type": "code",
   "execution_count": 56,
   "metadata": {},
   "outputs": [
    {
     "data": {
      "image/png": "[encoded data removed]",
      "text/plain": [
       "<matplotlib.figure.Figure at 0x10e399290>"
      ]
     },
     "metadata": {},
     "output_type": "display_data"
    }
   ],
   "source": [
    "W,H,sgd_error_tensor = MiniBatch_SGD_PyTorch(original_matrix, mask, K = 2 , max_epoch=10000, eta=0.10, B=10)"
   ]
  },
  {
   "cell_type": "code",
   "execution_count": 57,
   "metadata": {},
   "outputs": [
    {
     "data": {
      "image/png": "[encoded data removed]",
      "text/plain": [
       "<matplotlib.figure.Figure at 0x10e3c9750>"
      ]
     },
     "metadata": {},
     "output_type": "display_data"
    }
   ],
   "source": [
    "Y_hat = torch.sigmoid(torch.mm(W,H)).data.numpy()\n",
    "plt.figure(figsize = (7,7))\n",
    "plt.imshow(Y_hat, interpolation='nearest')  \n",
    "plt.title('Estimate')\n",
    "plt.show()\n",
    "\n"
   ]
  },
  {
   "cell_type": "markdown",
   "metadata": {},
   "source": [
    "# Error Plots"
   ]
  },
  {
   "cell_type": "markdown",
   "metadata": {},
   "source": [
    "### Error vs Estimation Rank"
   ]
  },
  {
   "cell_type": "code",
   "execution_count": 90,
   "metadata": {},
   "outputs": [
    {
     "data": {
      "text/plain": [
       "tensor(22.5721)"
      ]
     },
     "execution_count": 90,
     "metadata": {},
     "output_type": "execute_result"
    }
   ],
   "source": [
    "W, H, sgd_error_tensor = SGD_PyTorch(original_matrix, mask, 50 , max_epoch=7000,eta=0.020)\n",
    "sgd_error_tensor[-1]"
   ]
  },
  {
   "cell_type": "code",
   "execution_count": 108,
   "metadata": {},
   "outputs": [
    {
     "data": {
      "image/png": "[encoded data removed]",
      "text/plain": [
       "<matplotlib.figure.Figure at 0x110bcb4d0>"
      ]
     },
     "metadata": {},
     "output_type": "display_data"
    }
   ],
   "source": [
    "# 5 dk suruyor\n",
    "\n",
    "est_ranks = np.arange(2, 51, 2)\n",
    "\n",
    "error = []\n",
    "for k in est_ranks:\n",
    "    #print k\n",
    "    original_matrix = np.array([[int((i + j) % 2 == 0) for j in range(M)] for  i in range(M)])\n",
    "    mask = generate_mask(M)\n",
    "    W, H, sgd_error_tensor = SGD_PyTorch(original_matrix, mask, k , max_epoch=5000,eta=0.050)\n",
    "    temp_error = sgd_error_tensor[-1]\n",
    "    error.append(temp_error.data.numpy())\n",
    "\n",
    "plt.plot(est_ranks,error)\n",
    "plt.xlabel('Estimation Rank')\n",
    "plt.ylabel('Error ')\n",
    "plt.show()"
   ]
  },
  {
   "cell_type": "markdown",
   "metadata": {
    "collapsed": true
   },
   "source": [
    "### Error vs Itereation number & Estimation Rank"
   ]
  },
  {
   "cell_type": "code",
   "execution_count": 110,
   "metadata": {
    "collapsed": true
   },
   "outputs": [],
   "source": [
    "est_ranks = np.arange(2, 51, 2)\n",
    "iter_number = np.arange(5000, 20001, 2000)\n",
    "\n",
    "n = est_ranks.shape[0]\n",
    "m = iter_number.shape[0]\n",
    "\n",
    "errors = np.zeros((n , m ))"
   ]
  },
  {
   "cell_type": "code",
   "execution_count": 111,
   "metadata": {},
   "outputs": [
    {
     "name": "stdout",
     "output_type": "stream",
     "text": [
      "5000\n",
      "7000\n",
      "9000\n",
      "11000\n",
      "13000\n",
      "15000\n",
      "17000\n",
      "19000\n"
     ]
    }
   ],
   "source": [
    "ee = 0 \n",
    "# 20 dk suruyor \n",
    "for e in iter_number:\n",
    "    print e \n",
    "    kk = 0\n",
    "    for k in est_ranks:\n",
    "        \n",
    "        original_matrix = np.array([[int((i + j) % 2 == 0) for j in range(M)] for  i in range(M)])\n",
    "        mask = generate_mask(M)\n",
    "        \n",
    "        W, H, sgd_error_tensor = SGD_PyTorch(original_matrix, mask, k , max_epoch= e ,eta=0.10)\n",
    "\n",
    "        temp_error = sgd_error_tensor[-1]\n",
    "        \n",
    "        errors[kk,ee] = temp_error.data.numpy()\n",
    "        kk = kk + 1\n",
    "        \n",
    "    ee = ee + 1\n",
    "\n",
    "\n",
    "\n",
    "    \n"
   ]
  },
  {
   "cell_type": "code",
   "execution_count": 112,
   "metadata": {},
   "outputs": [
    {
     "data": {
      "image/png": "[encoded data removed]",
      "text/plain": [
       "<matplotlib.figure.Figure at 0x10e3db950>"
      ]
     },
     "metadata": {},
     "output_type": "display_data"
    }
   ],
   "source": [
    "plt.imshow(errors, cmap='hot', interpolation='nearest', extent=[5000,20000,1,M], aspect='auto')\n",
    "plt.xlabel('Iterations')\n",
    "plt.ylabel('Approximation Rank')\n",
    "plt.colorbar()\n",
    "plt.show()"
   ]
  },
  {
   "cell_type": "markdown",
   "metadata": {},
   "source": [
    "Theoretically, we expect that when approximation rank is getting bigger and number of iterations is getting bigger, error decreases. Our expectations are satisfied."
   ]
  },
  {
   "cell_type": "markdown",
   "metadata": {
    "collapsed": true
   },
   "source": [
    "### Error vs Mask Count & Estimation Rank"
   ]
  },
  {
   "cell_type": "code",
   "execution_count": 113,
   "metadata": {
    "collapsed": true
   },
   "outputs": [],
   "source": [
    "est_ranks = np.arange(2, 51, 2)\n",
    "mask_count = np.arange(100, 1501, 250)\n",
    "\n",
    "n = est_ranks.shape[0]\n",
    "m = mask_count.shape[0]\n",
    "\n",
    "errors2 = np.zeros((n , m ))"
   ]
  },
  {
   "cell_type": "code",
   "execution_count": 114,
   "metadata": {},
   "outputs": [
    {
     "name": "stdout",
     "output_type": "stream",
     "text": [
      "[ 2  4  6  8 10 12 14 16 18 20 22 24 26 28 30 32 34 36 38 40 42 44 46 48 50]\n",
      "[ 100  350  600  850 1100 1350]\n"
     ]
    }
   ],
   "source": [
    "print est_ranks\n",
    "print mask_count"
   ]
  },
  {
   "cell_type": "code",
   "execution_count": 115,
   "metadata": {},
   "outputs": [
    {
     "name": "stdout",
     "output_type": "stream",
     "text": [
      "100\n",
      "350\n",
      "600\n",
      "850\n",
      "1100\n",
      "1350\n"
     ]
    }
   ],
   "source": [
    "mcc = 0 \n",
    "# dk suruyor\n",
    "for mc in mask_count:\n",
    "    print mc\n",
    "    kk = 0\n",
    "    for k in est_ranks:\n",
    "        \n",
    "        original_matrix = np.array([[int((i + j) % 2 == 0) for j in range(M)] for  i in range(M)])\n",
    "        \n",
    "        mask = generate_mask(M, mc)\n",
    "        \n",
    "        W, H, sgd_error_tensor = SGD_PyTorch(original_matrix, mask, k , max_epoch= 5000 ,eta=0.10)\n",
    "\n",
    "        temp_error = sgd_error_tensor[-1]\n",
    "        \n",
    "        errors2[kk,mcc] = temp_error.data.numpy()\n",
    "        kk = kk + 1\n",
    "        \n",
    "    mcc = mcc + 1\n",
    "\n"
   ]
  },
  {
   "cell_type": "code",
   "execution_count": 116,
   "metadata": {},
   "outputs": [
    {
     "data": {
      "image/png": "[encoded data removed]",
      "text/plain": [
       "<matplotlib.figure.Figure at 0x10dabe8d0>"
      ]
     },
     "metadata": {},
     "output_type": "display_data"
    }
   ],
   "source": [
    "plt.imshow(errors2, cmap='hot', interpolation='nearest', extent=[250,2500,1,50], aspect='auto')\n",
    "plt.xlabel('Mask Count')\n",
    "plt.ylabel('Approximation Rank')\n",
    "plt.colorbar()\n",
    "plt.show()"
   ]
  },
  {
   "cell_type": "markdown",
   "metadata": {
    "collapsed": true
   },
   "source": [
    "Similarly, results are consistent. Theoretically, we expect that when approximation rank is getting bigger and mask count is decreasing, error decreases. Our expectations are satisfied."
   ]
  },
  {
   "cell_type": "code",
   "execution_count": null,
   "metadata": {
    "collapsed": true
   },
   "outputs": [],
   "source": []
  },
  {
   "cell_type": "code",
   "execution_count": null,
   "metadata": {
    "collapsed": true
   },
   "outputs": [],
   "source": []
  }
 ],
 "metadata": {
  "kernelspec": {
   "display_name": "Python 2",
   "language": "python",
   "name": "python2"
  },
  "language_info": {
   "codemirror_mode": {
    "name": "ipython",
    "version": 2
   },
   "file_extension": ".py",
   "mimetype": "text/x-python",
   "name": "python",
   "nbconvert_exporter": "python",
   "pygments_lexer": "ipython2",
   "version": "2.7.14"
  },
  "toc": {
   "nav_menu": {},
   "number_sections": true,
   "sideBar": true,
   "skip_h1_title": false,
   "toc_cell": false,
   "toc_position": {},
   "toc_section_display": "block",
   "toc_window_display": false
  }
 },
 "nbformat": 4,
 "nbformat_minor": 2
}
